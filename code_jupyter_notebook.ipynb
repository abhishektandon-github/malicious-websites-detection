{
 "cells": [
  {
   "cell_type": "code",
   "execution_count": 1,
   "metadata": {},
   "outputs": [],
   "source": [
    "import warnings\n",
    "import numpy as np\n",
    "import pandas as pd\n",
    "import seaborn as sb\n",
    "import matplotlib.pyplot as plt\n",
    "from sklearn.tree import DecisionTreeClassifier\n",
    "from sklearn.ensemble import RandomForestClassifier\n",
    "from sklearn.model_selection import train_test_split\n",
    "from IPython.display import display, Markdown, Latex\n",
    "from sklearn.metrics import confusion_matrix, accuracy_score, precision_score, recall_score, classification_report, f1_score, roc_curve\n",
    "warnings.simplefilter(action='ignore', category=FutureWarning)"
   ]
  },
  {
   "cell_type": "code",
   "execution_count": 2,
   "metadata": {},
   "outputs": [],
   "source": [
    "def analyse(df, string):\n",
    "\n",
    "    X_train, X_test, y_train, y_test = train_test_split(df, target, test_size = 0.25, random_state = 25)\n",
    "    str = \"Accuracy, Precision, Recall, F1 Score for:  \"+string\n",
    "    \n",
    "    display(Markdown('## '+str))\n",
    "    # RandomForestClassifier\n",
    "    model = RandomForestClassifier(random_state = 25)\n",
    "    model.fit(X_train, y_train)\n",
    "\n",
    "    y_pred = model.predict(X_test)\n",
    "    acc = round(accuracy_score(y_pred, y_test)*100, 2)\n",
    "    prec = round(precision_score(y_pred, y_test)*100, 2)\n",
    "    recall = round(recall_score(y_pred, y_test)*100, 2)\n",
    "    f1 = round(f1_score(y_pred, y_test)*100, 2)\n",
    "    \n",
    "    display(Markdown(\"### Random Forest Classifier\"))\n",
    "    print(\"Accuracy:\",acc)\n",
    "    print(\"Precision:\",prec)\n",
    "    print(\"Recall:\",recall)\n",
    "    print(\"F1 Score:\",f1)\n",
    "    # Decision Tree\n",
    "\n",
    "    model = DecisionTreeClassifier(random_state = 25)\n",
    "\n",
    "    model.fit(X_train, y_train)\n",
    "\n",
    "    y_pred = model.predict(X_test)\n",
    "    \n",
    "    acc = round(accuracy_score(y_pred, y_test)*100, 2)\n",
    "    prec = round(precision_score(y_pred, y_test)*100, 2)\n",
    "    recall = round(recall_score(y_pred, y_test)*100, 2)\n",
    "    f1 = round(f1_score(y_pred, y_test)*100, 2)\n",
    "\n",
    "    display(Markdown(\"### Decision tree Classifier\"))\n",
    "    print(\"Accuracy:\",acc)\n",
    "    print(\"Precision:\",prec)\n",
    "    print(\"Recall:\",recall)\n",
    "    print(\"F1 Score:\",f1,\"\\n\")\n",
    "    \n",
    "    display(Markdown(\"### ROC Curve\"))\n",
    "    y_pred_proba = model.predict_proba(X_test)\n",
    "    fpr, tpr, thresholds = roc_curve(y_test, y_pred_proba[:,1])\n",
    "\n",
    "    plt.plot(fpr, tpr)\n",
    "    plt.plot([0, 1], [0, 1], linestyle='--')\n",
    "    plt.xlim([0.0, 1.0])\n",
    "    plt.ylim([0.0, 1.0])\n",
    "    plt.xlabel('1 - specificity')\n",
    "    plt.ylabel('sensitivity')\n",
    "    plt.show()\n",
    "    \n",
    "    \n",
    "    cm = confusion_matrix(y_test, y_pred, labels = [1,0])\n",
    "    \n",
    "    display(Markdown(\"### Classification Report\"))\n",
    "    print(classification_report(y_test, y_pred))\n",
    "    \n",
    "    display(Markdown(\"### Confusion Matrix\"))\n",
    "    ax = sb.heatmap(cm, annot=True, fmt='g') \n",
    "    bottom, top = ax.get_ylim()\n",
    "    ax.set_ylim(bottom + 0.5, top - 0.5)\n",
    "    plt.show()\n"
   ]
  },
  {
   "cell_type": "code",
   "execution_count": 3,
   "metadata": {},
   "outputs": [],
   "source": [
    "# load dataset\n",
    "df = pd.read_csv('data/dataset.csv')\n",
    "\n",
    "# ip and target (numpy arrays)\n",
    "df_ip = df['IP'].values\n",
    "target = df['target'].values\n",
    "\n",
    "# separate the 4 octets\n",
    "arr = np.array(list(map(lambda x: x.split('.'), df_ip))).astype(np.int)\n",
    "\n",
    "# convert numpy array `arr` to pandas DataFrame\n",
    "new_df = pd.DataFrame(data = arr, columns = ['X1', 'X2', 'X3', 'X4'])\n",
    "\n",
    "\n",
    "# ---- Feature Extraction ----\n",
    "\n",
    "# Adding new features according to Octet Method\n",
    "new_df['N2'] = 256 + new_df['X2']\n",
    "new_df['N3'] = 512 + new_df['X3']\n",
    "new_df['N4'] = 768 + new_df['X4']\n",
    "\n",
    "# Additional features according to Ex-Octet Method\n",
    "new_df['N5'] = 768 + (new_df['X1']+new_df['X2'])%256\n",
    "new_df['N6'] = 1024 + (new_df['X1']+new_df['X2']+new_df['X3'])%256\n",
    "new_df['N7'] = 1280 + (new_df['X1']+new_df['X2']+new_df['X3']+new_df['X4'])%256\n",
    "new_df['target'] = df['target']\n",
    "\n",
    "\n",
    "# final dataframe used for train/test\n",
    "\n",
    "df0 = new_df[['X1']].values\n",
    "df1 = new_df[['X1', 'N2']].values\n",
    "df2 = new_df[['X1', 'N2', 'N3']].values\n",
    "df3 = new_df[['X1', 'N2', 'N3', 'N4']].values\n",
    "df4 = new_df[['X1', 'N2', 'N3', 'N4', 'N5']].values\n",
    "df5 = new_df[['X1', 'N2', 'N3', 'N4', 'N5', 'N6']].values\n",
    "df6 = new_df[['X1', 'N2', 'N3', 'N4', 'N5', 'N6', 'N7']].values\n",
    "\n",
    "df7 = new_df[['X1', 'X2']].values\n",
    "df8 = new_df[['X1', 'X2', 'X3']].values\n",
    "df9 = new_df[['X1', 'X2', 'X3', 'X4']].values\n",
    "\n",
    "df10 = new_df[['X1', 'X2', 'N2']].values\n",
    "df11 = new_df[['X1', 'X2', 'N3']].values\n",
    "df12 = new_df[['X1', 'X2', 'N4']].values\n",
    "df13 = new_df[['X1', 'X2', 'N2', 'N3']].values\n",
    "df14 = new_df[['X1', 'X2', 'N2', 'N3', 'N4']].values\n",
    "\n",
    "df15 = new_df[['X1', 'X2', 'X3', 'N2', 'N3']].values\n",
    "\n",
    "df27 = new_df[['X1', 'X2', 'N5']].values\n",
    "df28 = new_df[['X1', 'X2', 'N6']].values\n",
    "df29 = new_df[['X1', 'X2', 'N7']].values\n",
    "\n",
    "df30 = new_df[['X1', 'X2', 'X3', 'N6']].values\n",
    "df31 = new_df[['X1', 'X2', 'X3', 'X4', 'N7']].values\n",
    "\n",
    "df32 = new_df[['X1', 'N2', 'N5']].values\n",
    "df33 = new_df[['X1', 'N2', 'N6']].values\n",
    "df34 = new_df[['X1', 'N2', 'N7']].values\n",
    "\n",
    "df35 = new_df[['X1', 'N2', 'N3', 'N6']].values\n",
    "df36 = new_df[['X1', 'N2', 'N3', 'N4', 'N7']].values\n",
    "\n"
   ]
  },
  {
   "cell_type": "code",
   "execution_count": 4,
   "metadata": {},
   "outputs": [
    {
     "data": {
      "text/markdown": [
       "## Accuracy, Precision, Recall, F1 Score for:  X1, X2"
      ],
      "text/plain": [
       "<IPython.core.display.Markdown object>"
      ]
     },
     "metadata": {},
     "output_type": "display_data"
    },
    {
     "data": {
      "text/markdown": [
       "### Random Forest Classifier"
      ],
      "text/plain": [
       "<IPython.core.display.Markdown object>"
      ]
     },
     "metadata": {},
     "output_type": "display_data"
    },
    {
     "name": "stdout",
     "output_type": "stream",
     "text": [
      "Accuracy: 91.37\n",
      "Precision: 79.45\n",
      "Recall: 85.67\n",
      "F1 Score: 82.45\n"
     ]
    },
    {
     "data": {
      "text/markdown": [
       "### Decision tree Classifier"
      ],
      "text/plain": [
       "<IPython.core.display.Markdown object>"
      ]
     },
     "metadata": {},
     "output_type": "display_data"
    },
    {
     "name": "stdout",
     "output_type": "stream",
     "text": [
      "Accuracy: 91.5\n",
      "Precision: 79.65\n",
      "Recall: 86.01\n",
      "F1 Score: 82.71 \n",
      "\n"
     ]
    },
    {
     "data": {
      "text/markdown": [
       "### ROC Curve"
      ],
      "text/plain": [
       "<IPython.core.display.Markdown object>"
      ]
     },
     "metadata": {},
     "output_type": "display_data"
    },
    {
     "data": {
      "image/png": "[encoded data removed]",
      "text/plain": [
       "<Figure size 432x288 with 1 Axes>"
      ]
     },
     "metadata": {
      "needs_background": "light"
     },
     "output_type": "display_data"
    },
    {
     "data": {
      "text/markdown": [
       "### Classification Report"
      ],
      "text/plain": [
       "<IPython.core.display.Markdown object>"
      ]
     },
     "metadata": {},
     "output_type": "display_data"
    },
    {
     "name": "stdout",
     "output_type": "stream",
     "text": [
      "              precision    recall  f1-score   support\n",
      "\n",
      "           0       0.93      0.96      0.94     17663\n",
      "           1       0.86      0.80      0.83      6050\n",
      "\n",
      "    accuracy                           0.92     23713\n",
      "   macro avg       0.90      0.88      0.89     23713\n",
      "weighted avg       0.91      0.92      0.91     23713\n",
      "\n"
     ]
    },
    {
     "data": {
      "text/markdown": [
       "### Confusion Matrix"
      ],
      "text/plain": [
       "<IPython.core.display.Markdown object>"
      ]
     },
     "metadata": {},
     "output_type": "display_data"
    },
    {
     "data": {
      "image/png": "[encoded data removed]",
      "text/plain": [
       "<Figure size 432x288 with 2 Axes>"
      ]
     },
     "metadata": {
      "needs_background": "light"
     },
     "output_type": "display_data"
    }
   ],
   "source": [
    "# We have tried many permutations and combinations and thereafter finalised the feature set which gave us the best results\n",
    "\n",
    "# analyse(df0, 'X1')\n",
    "# analyse(df1, 'X1, N2')\n",
    "# analyse(df2, 'X1, N2, N3')\n",
    "# analyse(df3, 'X1, N2, N3, N4')\n",
    "# analyse(df4, 'X1, N2, N3, N4, N5')\n",
    "# analyse(df5, 'X1, N2, N3, N4, N5, N6')\n",
    "# analyse(df6, 'X1, N2, N3, N4, N5, N6, N7')\n",
    "\n",
    "analyse(df7, 'X1, X2') # gives best results\n",
    "# analyse(df8, 'X1, X2, X3')\n",
    "# analyse(df9, 'X1, X2, X3, X4')\n",
    "\n",
    "# analyse(df10, 'X1, X2, N2')\n",
    "# analyse(df11, 'X1, X2, N3') \n",
    "# analyse(df12, 'X1, X2, N4')\n",
    "# analyse(df13, 'X1, X2, N2, N3')\n",
    "# analyse(df14, 'X1, X2, N2, N3, N4')\n",
    "\n",
    "# analyse(df15, 'X1, X2, X3, N2, N3')\n",
    "\n",
    "# analyse(df27, 'X1, X2, N5') # gives best results\n",
    "\n",
    "# analyse(df28, 'X1, X2, N6')\n",
    "# analyse(df29, 'X1, X2, N7')\n",
    "\n",
    "# analyse(df30, 'X1, X2, X3, N6')\n",
    "# analyse(df31, 'X1, X2, X3, X4, N7')\n",
    "\n",
    "# analyse(df32, 'X1, N2, N5')\n",
    "# analyse(df33, 'X1, N2, N6')\n",
    "# analyse(df34, 'X1, N2, N7')\n",
    "\n",
    "# analyse(df35, 'X1, N2, N3, N6')\n",
    "# analyse(df36, 'X1, N2, N3, N4, N7')\n"
   ]
  }
 ],
 "metadata": {
  "kernelspec": {
   "display_name": "Python 3",
   "language": "python",
   "name": "python3"
  },
  "language_info": {
   "codemirror_mode": {
    "name": "ipython",
    "version": 3
   },
   "file_extension": ".py",
   "mimetype": "text/x-python",
   "name": "python",
   "nbconvert_exporter": "python",
   "pygments_lexer": "ipython3",
   "version": "3.7.4"
  }
 },
 "nbformat": 4,
 "nbformat_minor": 2
}
